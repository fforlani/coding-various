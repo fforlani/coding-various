{
 "cells": [
  {
   "cell_type": "code",
   "execution_count": 1,
   "metadata": {},
   "outputs": [],
   "source": [
    "class Piece:\n",
    "    \n",
    "    character = \"\"\n",
    "    \n",
    "    def __init__(self, top, bottom, left, right):\n",
    "        self.top = top\n",
    "        self.bottom = bottom\n",
    "        self.left = left\n",
    "        self.right = right\n",
    "        \n",
    "    def setCharacter(self, char):\n",
    "        self.character = char\n",
    "        \n",
    "    def __getitem__(self, item):\n",
    "        return getattr(self, item)"
   ]
  },
  {
   "cell_type": "code",
   "execution_count": 2,
   "metadata": {},
   "outputs": [],
   "source": [
    "pieces = []\n",
    "\n",
    "file = open('puzzle.txt', 'r')\n",
    "lines = file.readlines()\n",
    "\n",
    "for i in range(7, len(lines)):\n",
    "    values = lines[i].split(\" \")\n",
    "    if len(values) < 4:\n",
    "        print(f\"Unexpected string {lines[i]}\")\n",
    "    piece = Piece(int(values[0]), int(values[1]), int(values[2]), int(values[3]))\n",
    "    if values[4] != '\\n':\n",
    "        piece.setCharacter(values[4])\n",
    "    pieces.append(piece)"
   ]
  },
  {
   "cell_type": "code",
   "execution_count": 3,
   "metadata": {},
   "outputs": [],
   "source": [
    "sharedEdge = {\"bottom\" : \"top\",\n",
    "             \"top\" : \"bottom\",\n",
    "             \"right\" : \"left\",\n",
    "             \"left\" : \"right\"}\n",
    "\n",
    "#return True if there is no piece left that can be close to the specified edge\n",
    "def isUnique(edge, value):\n",
    "    for piece in pieces:\n",
    "        if getattr(piece, sharedEdge[edge]) == value:\n",
    "            return False\n",
    "    return True\n",
    "\n",
    "# return the pieces matching with the given edge (that can be put close to that edge)\n",
    "def findMatches(edge, value):\n",
    "    return [piece for piece in pieces if getattr(piece, sharedEdge[edge]) == value]\n",
    "\n",
    "def findTopLeft():\n",
    "#     for piece in pieces:\n",
    "#         if isUnique(\"top\", piece.top) and isUnique(\"left\", piece.left):\n",
    "#             return piece\n",
    "#     return None\n",
    "    #to speed up next calculation, since first piece never change\n",
    "    return pieces[13953]\n",
    "\n",
    "def findNext():\n",
    "    if len(orderedPieces[-1]) < 200:\n",
    "        # there still elements to put in the same row\n",
    "        piece = orderedPieces[-1][-1]\n",
    "        matches = findMatches(\"right\", getattr(piece, \"right\"))\n",
    "        if len(orderedPieces) > 1:\n",
    "            # we need to insert element after the first row: we have to match the bottom\n",
    "            piece = orderedPieces[-2][len(orderedPieces[-1])]\n",
    "            matches = findMatches(\"bottom\", getattr(piece, \"bottom\"))\n",
    "            if len(matches) == 1:\n",
    "                return matches[0]\n",
    "            else:\n",
    "                return None\n",
    "        else:\n",
    "            # we need to insert element in the first row\n",
    "            for match in matches:\n",
    "                if isUnique(\"top\", getattr(match, \"top\")):\n",
    "                    return match\n",
    "    else:\n",
    "        # we need to find an element for the next row\n",
    "        piece = orderedPieces[-1][0]\n",
    "        matches = findMatches(\"bottom\", getattr(piece, \"bottom\"))\n",
    "        for match in matches:\n",
    "            if isUnique(\"left\", getattr(match, \"left\")):\n",
    "                return match\n",
    "             \n",
    "    return None"
   ]
  },
  {
   "cell_type": "code",
   "execution_count": null,
   "metadata": {},
   "outputs": [],
   "source": [
    "orderedPieces = []\n",
    "\n",
    "firstPiece = findTopLeft()\n",
    "orderedPieces.append([firstPiece])\n",
    "pieces.remove(firstPiece)\n",
    "\n",
    "while len(pieces) > 0:\n",
    "    nextPiece = findNext()\n",
    "    if nextPiece is None:\n",
    "        print(\"None returned\")\n",
    "        break\n",
    "    if len(orderedPieces[-1]) == 200:\n",
    "        orderedPieces.append([nextPiece])\n",
    "    else:\n",
    "        orderedPieces[-1].append(nextPiece)\n",
    "    pieces.remove(nextPiece)"
   ]
  },
  {
   "cell_type": "code",
   "execution_count": null,
   "metadata": {},
   "outputs": [],
   "source": [
    "for row in orderedPieces:\n",
    "    for el in row:\n",
    "        if el.character != \"\":\n",
    "            print(el.character[0], end='')"
   ]
  },
  {
   "cell_type": "markdown",
   "metadata": {},
   "source": [
    "Opening the zip file with password provided, get the following flag:\n",
    "{FLG:++---N0t_4_H4mM3r---||}"
   ]
  }
 ],
 "metadata": {
  "kernelspec": {
   "display_name": "Python 3",
   "language": "python",
   "name": "python3"
  },
  "language_info": {
   "codemirror_mode": {
    "name": "ipython",
    "version": 3
   },
   "file_extension": ".py",
   "mimetype": "text/x-python",
   "name": "python",
   "nbconvert_exporter": "python",
   "pygments_lexer": "ipython3",
   "version": "3.8.3"
  }
 },
 "nbformat": 4,
 "nbformat_minor": 4
}
